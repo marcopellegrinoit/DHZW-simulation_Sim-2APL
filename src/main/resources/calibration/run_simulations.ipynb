{
 "cells": [
  {
   "cell_type": "code",
   "execution_count": 10,
   "id": "e34d6faf",
   "metadata": {},
   "outputs": [],
   "source": [
    "import csv\n",
    "import pandas as pd\n",
    "import os\n",
    "from tqdm import tqdm\n",
    "import subprocess\n",
    "path = 'C:/Users/6997619/Documents/GitHub projects/DHZW-simulation_Sim-2APL/src/main/resources/calibration/'"
   ]
  },
  {
   "cell_type": "markdown",
   "id": "ffaee36b",
   "metadata": {},
   "source": [
    "## Read datasets"
   ]
  },
  {
   "cell_type": "code",
   "execution_count": 11,
   "id": "7db1b203",
   "metadata": {},
   "outputs": [],
   "source": [
    "X_train = pd.read_csv(path+\"data/X_train.csv\")\n",
    "X_test = pd.read_csv(path+\"data/X_test.csv\")\n",
    "\n",
    "with open(path+'data/parameter_labels.csv', newline='') as csvfile:\n",
    "    reader = csv.DictReader(csvfile)\n",
    "    params = [row['parameter'] for row in reader]"
   ]
  },
  {
   "cell_type": "markdown",
   "id": "c9e8ff1e",
   "metadata": {},
   "source": [
    "## Create datasets with all the parameters"
   ]
  },
  {
   "cell_type": "code",
   "execution_count": 12,
   "id": "1448c0e8",
   "metadata": {},
   "outputs": [],
   "source": [
    "X_train_full = pd.DataFrame()\n",
    "for label in params:\n",
    "    X_train_full[label] = [1.0] * X_train.shape[0]\n",
    "\n",
    "X_test_full = pd.DataFrame()\n",
    "for label in params:\n",
    "    X_test_full[label] = [1.0] * X_test.shape[0]"
   ]
  },
  {
   "cell_type": "code",
   "execution_count": 13,
   "id": "91a371b8",
   "metadata": {},
   "outputs": [],
   "source": [
    "X_train_full.update(X_train)\n",
    "X_test_full.update(X_test)"
   ]
  },
  {
   "cell_type": "code",
   "execution_count": 14,
   "id": "c13afe70",
   "metadata": {},
   "outputs": [],
   "source": [
    "table = pd.concat([X_train_full, X_test_full])"
   ]
  },
  {
   "cell_type": "code",
   "execution_count": 15,
   "id": "f02898fc",
   "metadata": {},
   "outputs": [],
   "source": [
    "table.to_csv(path + \"data/parametersets.csv\", index=False)"
   ]
  },
  {
   "cell_type": "markdown",
   "id": "5aed1b29",
   "metadata": {},
   "source": [
    "### Initialise the output dataframe"
   ]
  },
  {
   "cell_type": "code",
   "execution_count": 16,
   "id": "9d756bd1",
   "metadata": {},
   "outputs": [],
   "source": [
    "df = pd.DataFrame(columns=[\"CAR_DRIVER\", \"CAR_PASSENGER\", \"BIKE\", \"BUS_TRAM\", \"TRAIN\", \"WALK\"])\n",
    "df.to_csv(path + \"output/output_proportions.csv\", index=False)"
   ]
  },
  {
   "cell_type": "markdown",
   "id": "13684405",
   "metadata": {},
   "source": [
    "## Call Sim2APL iteratively"
   ]
  },
  {
   "cell_type": "markdown",
   "id": "d5fb970e",
   "metadata": {},
   "source": [
    "### Prepare the Java command"
   ]
  },
  {
   "cell_type": "code",
   "execution_count": 17,
   "id": "ec65938f",
   "metadata": {},
   "outputs": [],
   "source": [
    "config = \"--config src/main/resources/config_DHZW_full.toml\"\n",
    "modeliberal = \"--mode-liberal 0.5\"\n",
    "modeconservative = \"--mode-conservative 0.5\"\n",
    "output = \"-o output/deskrun\"\n",
    "outputPath = \" --output_file src/main/resources/calibration/output/output_proportions.csv\"\n",
    "parametersPath = \"--parameter_file src/main/resources/calibration/data/parametersets.csv\"\n",
    "\n",
    "cmd = \"java -cp target/sim2apl-dhzw-simulation-1.0-SNAPSHOT-jar-with-dependencies.jar main.java.nl.uu.iss.ga.Simulation\" + \" \" + config + \" \" + modeliberal + \" \" + modeconservative + \" \" + output + \" \" + outputPath + \" \" + parametersPath\n",
    "os.chdir('C:/Users/6997619/Documents/GitHub projects/DHZW-simulation_Sim-2APL')"
   ]
  },
  {
   "cell_type": "markdown",
   "id": "29a35647",
   "metadata": {},
   "source": [
    "### Main loop call simulations"
   ]
  },
  {
   "cell_type": "code",
   "execution_count": 18,
   "id": "49c1d71d",
   "metadata": {},
   "outputs": [
    {
     "name": "stderr",
     "output_type": "stream",
     "text": [
      " 25%|███████████████████▍                                                           | 54/220 [28:50<1:28:38, 32.04s/it]\n"
     ]
    },
    {
     "ename": "KeyboardInterrupt",
     "evalue": "",
     "output_type": "error",
     "traceback": [
      "\u001b[1;31m---------------------------------------------------------------------------\u001b[0m",
      "\u001b[1;31mKeyboardInterrupt\u001b[0m                         Traceback (most recent call last)",
      "Input \u001b[1;32mIn [18]\u001b[0m, in \u001b[0;36m<cell line: 1>\u001b[1;34m()\u001b[0m\n\u001b[0;32m      8\u001b[0m \u001b[38;5;66;03m# Capture the output of the Java program\u001b[39;00m\n\u001b[0;32m      9\u001b[0m \u001b[38;5;28;01mtry\u001b[39;00m:\n\u001b[1;32m---> 10\u001b[0m     output \u001b[38;5;241m=\u001b[39m \u001b[43msubprocess\u001b[49m\u001b[38;5;241;43m.\u001b[39;49m\u001b[43mcheck_output\u001b[49m\u001b[43m(\u001b[49m\u001b[43mfull_command\u001b[49m\u001b[43m,\u001b[49m\u001b[43m \u001b[49m\u001b[43mstderr\u001b[49m\u001b[38;5;241;43m=\u001b[39;49m\u001b[43msubprocess\u001b[49m\u001b[38;5;241;43m.\u001b[39;49m\u001b[43mSTDOUT\u001b[49m\u001b[43m,\u001b[49m\u001b[43m \u001b[49m\u001b[43muniversal_newlines\u001b[49m\u001b[38;5;241;43m=\u001b[39;49m\u001b[38;5;28;43;01mTrue\u001b[39;49;00m\u001b[43m)\u001b[49m\n\u001b[0;32m     11\u001b[0m \u001b[38;5;28;01mexcept\u001b[39;00m subprocess\u001b[38;5;241m.\u001b[39mCalledProcessError \u001b[38;5;28;01mas\u001b[39;00m e:\n\u001b[0;32m     12\u001b[0m     \u001b[38;5;28mprint\u001b[39m(\u001b[38;5;124mf\u001b[39m\u001b[38;5;124m\"\u001b[39m\u001b[38;5;124mJava program exited with non-zero return code: \u001b[39m\u001b[38;5;132;01m{\u001b[39;00me\u001b[38;5;241m.\u001b[39mreturncode\u001b[38;5;132;01m}\u001b[39;00m\u001b[38;5;124m\"\u001b[39m)\n",
      "File \u001b[1;32m~\\Anaconda3\\envs\\dhzw_env\\lib\\subprocess.py:424\u001b[0m, in \u001b[0;36mcheck_output\u001b[1;34m(timeout, *popenargs, **kwargs)\u001b[0m\n\u001b[0;32m    421\u001b[0m         empty \u001b[38;5;241m=\u001b[39m \u001b[38;5;124mb\u001b[39m\u001b[38;5;124m'\u001b[39m\u001b[38;5;124m'\u001b[39m\n\u001b[0;32m    422\u001b[0m     kwargs[\u001b[38;5;124m'\u001b[39m\u001b[38;5;124minput\u001b[39m\u001b[38;5;124m'\u001b[39m] \u001b[38;5;241m=\u001b[39m empty\n\u001b[1;32m--> 424\u001b[0m \u001b[38;5;28;01mreturn\u001b[39;00m run(\u001b[38;5;241m*\u001b[39mpopenargs, stdout\u001b[38;5;241m=\u001b[39mPIPE, timeout\u001b[38;5;241m=\u001b[39mtimeout, check\u001b[38;5;241m=\u001b[39m\u001b[38;5;28;01mTrue\u001b[39;00m,\n\u001b[0;32m    425\u001b[0m            \u001b[38;5;241m*\u001b[39m\u001b[38;5;241m*\u001b[39mkwargs)\u001b[38;5;241m.\u001b[39mstdout\n",
      "File \u001b[1;32m~\\Anaconda3\\envs\\dhzw_env\\lib\\subprocess.py:507\u001b[0m, in \u001b[0;36mrun\u001b[1;34m(input, capture_output, timeout, check, *popenargs, **kwargs)\u001b[0m\n\u001b[0;32m    505\u001b[0m \u001b[38;5;28;01mwith\u001b[39;00m Popen(\u001b[38;5;241m*\u001b[39mpopenargs, \u001b[38;5;241m*\u001b[39m\u001b[38;5;241m*\u001b[39mkwargs) \u001b[38;5;28;01mas\u001b[39;00m process:\n\u001b[0;32m    506\u001b[0m     \u001b[38;5;28;01mtry\u001b[39;00m:\n\u001b[1;32m--> 507\u001b[0m         stdout, stderr \u001b[38;5;241m=\u001b[39m \u001b[43mprocess\u001b[49m\u001b[38;5;241;43m.\u001b[39;49m\u001b[43mcommunicate\u001b[49m\u001b[43m(\u001b[49m\u001b[38;5;28;43minput\u001b[39;49m\u001b[43m,\u001b[49m\u001b[43m \u001b[49m\u001b[43mtimeout\u001b[49m\u001b[38;5;241;43m=\u001b[39;49m\u001b[43mtimeout\u001b[49m\u001b[43m)\u001b[49m\n\u001b[0;32m    508\u001b[0m     \u001b[38;5;28;01mexcept\u001b[39;00m TimeoutExpired \u001b[38;5;28;01mas\u001b[39;00m exc:\n\u001b[0;32m    509\u001b[0m         process\u001b[38;5;241m.\u001b[39mkill()\n",
      "File \u001b[1;32m~\\Anaconda3\\envs\\dhzw_env\\lib\\subprocess.py:1121\u001b[0m, in \u001b[0;36mPopen.communicate\u001b[1;34m(self, input, timeout)\u001b[0m\n\u001b[0;32m   1119\u001b[0m     \u001b[38;5;28mself\u001b[39m\u001b[38;5;241m.\u001b[39m_stdin_write(\u001b[38;5;28minput\u001b[39m)\n\u001b[0;32m   1120\u001b[0m \u001b[38;5;28;01melif\u001b[39;00m \u001b[38;5;28mself\u001b[39m\u001b[38;5;241m.\u001b[39mstdout:\n\u001b[1;32m-> 1121\u001b[0m     stdout \u001b[38;5;241m=\u001b[39m \u001b[38;5;28;43mself\u001b[39;49m\u001b[38;5;241;43m.\u001b[39;49m\u001b[43mstdout\u001b[49m\u001b[38;5;241;43m.\u001b[39;49m\u001b[43mread\u001b[49m\u001b[43m(\u001b[49m\u001b[43m)\u001b[49m\n\u001b[0;32m   1122\u001b[0m     \u001b[38;5;28mself\u001b[39m\u001b[38;5;241m.\u001b[39mstdout\u001b[38;5;241m.\u001b[39mclose()\n\u001b[0;32m   1123\u001b[0m \u001b[38;5;28;01melif\u001b[39;00m \u001b[38;5;28mself\u001b[39m\u001b[38;5;241m.\u001b[39mstderr:\n",
      "File \u001b[1;32m~\\Anaconda3\\envs\\dhzw_env\\lib\\encodings\\cp1252.py:22\u001b[0m, in \u001b[0;36mIncrementalDecoder.decode\u001b[1;34m(self, input, final)\u001b[0m\n\u001b[0;32m     21\u001b[0m \u001b[38;5;28;01mclass\u001b[39;00m \u001b[38;5;21;01mIncrementalDecoder\u001b[39;00m(codecs\u001b[38;5;241m.\u001b[39mIncrementalDecoder):\n\u001b[1;32m---> 22\u001b[0m     \u001b[38;5;28;01mdef\u001b[39;00m \u001b[38;5;21mdecode\u001b[39m(\u001b[38;5;28mself\u001b[39m, \u001b[38;5;28minput\u001b[39m, final\u001b[38;5;241m=\u001b[39m\u001b[38;5;28;01mFalse\u001b[39;00m):\n\u001b[0;32m     23\u001b[0m         \u001b[38;5;28;01mreturn\u001b[39;00m codecs\u001b[38;5;241m.\u001b[39mcharmap_decode(\u001b[38;5;28minput\u001b[39m,\u001b[38;5;28mself\u001b[39m\u001b[38;5;241m.\u001b[39merrors,decoding_table)[\u001b[38;5;241m0\u001b[39m]\n",
      "\u001b[1;31mKeyboardInterrupt\u001b[0m: "
     ]
    }
   ],
   "source": [
    "for idx, row in tqdm(table.iterrows(), total=table.shape[0]):\n",
    "    # Construct the command line argument for this parameter value\n",
    "    arg = f'--parameterset_index={idx+1}'\n",
    "            \n",
    "    # Construct the full command with the argument\n",
    "    full_command = f'{cmd} {arg}'\n",
    "               \n",
    "    # Capture the output of the Java program\n",
    "    try:\n",
    "        output = subprocess.check_output(full_command, stderr=subprocess.STDOUT, universal_newlines=True)\n",
    "    except subprocess.CalledProcessError as e:\n",
    "        print(f\"Java program exited with non-zero return code: {e.returncode}\")\n",
    "        print(f\"Error message: {e.output}\")\n",
    "        exit(1)"
   ]
  },
  {
   "cell_type": "code",
   "execution_count": null,
   "id": "acc38bc7",
   "metadata": {},
   "outputs": [],
   "source": []
  },
  {
   "cell_type": "code",
   "execution_count": null,
   "id": "d854f851",
   "metadata": {},
   "outputs": [],
   "source": []
  }
 ],
 "metadata": {
  "kernelspec": {
   "display_name": "dhzw_env",
   "language": "python",
   "name": "dhzw_env"
  },
  "language_info": {
   "codemirror_mode": {
    "name": "ipython",
    "version": 3
   },
   "file_extension": ".py",
   "mimetype": "text/x-python",
   "name": "python",
   "nbconvert_exporter": "python",
   "pygments_lexer": "ipython3",
   "version": "3.9.13"
  }
 },
 "nbformat": 4,
 "nbformat_minor": 5
}
