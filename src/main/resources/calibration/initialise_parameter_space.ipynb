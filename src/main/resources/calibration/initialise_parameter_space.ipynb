{
 "cells": [
  {
   "cell_type": "markdown",
   "id": "e084159d",
   "metadata": {},
   "source": [
    "# Calibration using ML-based surtogate model of Lamperti et. al. 2017"
   ]
  },
  {
   "cell_type": "code",
   "execution_count": 123,
   "id": "bfc30eb9",
   "metadata": {},
   "outputs": [],
   "source": [
    "from functions import *\n",
    "import seaborn\n",
    "path = 'C:/Users/6997619/Documents/GitHub projects/DHZW-simulation_Sim-2APL/src/main/resources/calibration/data/'"
   ]
  },
  {
   "cell_type": "markdown",
   "id": "58f42c7a",
   "metadata": {},
   "source": [
    "## Initialize the parameters and constants"
   ]
  },
  {
   "cell_type": "code",
   "execution_count": 130,
   "id": "87f41e92",
   "metadata": {},
   "outputs": [],
   "source": [
    "# Set the ABM Evaluation Budget\n",
    "budget = 1000\n",
    "\n",
    "# Set out-of-sample test\n",
    "test_size = 100\n",
    "\n",
    "# Set the ABM parameters and support\n",
    "parameters_range = np.array([\n",
    "    (-2.0, 2.0),\n",
    "    (-2.0, 2.0),\n",
    "    (-2.0, 2.0),\n",
    "    (-2.0, 2.0),\n",
    "    (-2.0, 2.0)])\n",
    "\n",
    "param_dims = parameters_range.shape[0]"
   ]
  },
  {
   "cell_type": "code",
   "execution_count": 131,
   "id": "148a98c3",
   "metadata": {},
   "outputs": [
    {
     "name": "stdout",
     "output_type": "stream",
     "text": [
      "[[-2.  2.]\n",
      " [-2.  2.]\n",
      " [-2.  2.]\n",
      " [-2.  2.]\n",
      " [-2.  2.]]\n"
     ]
    }
   ],
   "source": [
    "print(parameters_range)"
   ]
  },
  {
   "cell_type": "markdown",
   "id": "43fdeb16",
   "metadata": {},
   "source": [
    "## Generate train set"
   ]
  },
  {
   "cell_type": "code",
   "execution_count": 132,
   "id": "01792154",
   "metadata": {},
   "outputs": [],
   "source": [
    "# Generate Sobol samples for training set\n",
    "n_dimensions = parameters_range.shape[0] # n° of parameters\n",
    "X_train = get_sobol_samples(n_dimensions, budget, parameters_range) # generate (with the Sobol sampling) a large set of parameters combinations. Quantity based on the budget"
   ]
  },
  {
   "cell_type": "code",
   "execution_count": 133,
   "id": "8f4ee754",
   "metadata": {},
   "outputs": [],
   "source": [
    "df_train = pd.DataFrame(X_train).set_axis(['alphaLeisureCarDriver',\n",
    "                            'alphaLeisureCarPassenger',\n",
    "                            'alphaLeisureTrain',\n",
    "                            'alphaLeisureTram',\n",
    "                            'betaChangesTransportLeisure'], axis=1, inplace=False)\n",
    "df_train.to_csv(path+\"X_train.csv\", header=True, index=None)"
   ]
  },
  {
   "cell_type": "markdown",
   "id": "112c3329",
   "metadata": {},
   "source": [
    "## Generate out-of-sample (oos) test set"
   ]
  },
  {
   "cell_type": "code",
   "execution_count": 134,
   "id": "ddd34b01",
   "metadata": {},
   "outputs": [],
   "source": [
    "X_test = get_unirand_samples(n_dimensions, test_size, parameters_range)\n",
    "selections = []\n",
    "for i, v in enumerate(X_test):\n",
    "    if (v not in X_train):\n",
    "        selections.append(i)\n",
    "X_test = unique_rows(X_test[selections])[:test_size]"
   ]
  },
  {
   "cell_type": "code",
   "execution_count": 135,
   "id": "5ab6317b",
   "metadata": {},
   "outputs": [],
   "source": [
    "df_test = pd.DataFrame(X_test).set_axis(['alphaLeisureCarDriver',\n",
    "                            'alphaLeisureCarPassenger',\n",
    "                            'alphaLeisureTrain',\n",
    "                            'alphaLeisureTram',\n",
    "                            'betaChangesTransportLeisure'], axis=1, inplace=False)\n",
    "df_test.to_csv(path+\"X_test.csv\", header=True, index=None)"
   ]
  },
  {
   "cell_type": "code",
   "execution_count": 136,
   "id": "286d0bc1",
   "metadata": {},
   "outputs": [
    {
     "name": "stdout",
     "output_type": "stream",
     "text": [
      "1000\n",
      "100\n"
     ]
    }
   ],
   "source": [
    "print(X_train.shape[0])\n",
    "print(X_test.shape[0])"
   ]
  }
 ],
 "metadata": {
  "kernelspec": {
   "display_name": "dhzw_env",
   "language": "python",
   "name": "dhzw_env"
  },
  "language_info": {
   "codemirror_mode": {
    "name": "ipython",
    "version": 3
   },
   "file_extension": ".py",
   "mimetype": "text/x-python",
   "name": "python",
   "nbconvert_exporter": "python",
   "pygments_lexer": "ipython3",
   "version": "3.9.13"
  }
 },
 "nbformat": 4,
 "nbformat_minor": 5
}
