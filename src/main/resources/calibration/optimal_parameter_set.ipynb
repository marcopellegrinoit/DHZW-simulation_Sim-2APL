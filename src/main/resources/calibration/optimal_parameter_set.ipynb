{
 "cells": [
  {
   "cell_type": "code",
   "execution_count": 1,
   "id": "40689948",
   "metadata": {},
   "outputs": [
    {
     "name": "stdout",
     "output_type": "stream",
     "text": [
      "Imported successfully\n"
     ]
    }
   ],
   "source": [
    "import pandas as pd\n",
    "from functions import *\n",
    "import seaborn\n",
    "import csv\n",
    "import subprocess\n",
    "import os\n",
    "path = 'C:/Users/6997619/Documents/GitHub projects/DHZW-simulation_Sim-2APL/src/main/resources/calibration/'"
   ]
  },
  {
   "cell_type": "code",
   "execution_count": 7,
   "id": "3a1e6eb3",
   "metadata": {},
   "outputs": [],
   "source": [
    "X_train = pd.read_csv(path+\"data/X_train.csv\")\n",
    "X_test = pd.read_csv(path+\"data/X_test.csv\")"
   ]
  },
  {
   "cell_type": "markdown",
   "id": "e74efdda",
   "metadata": {},
   "source": [
    "## Calculate fitness"
   ]
  },
  {
   "cell_type": "code",
   "execution_count": 8,
   "id": "c8709bc0",
   "metadata": {},
   "outputs": [
    {
     "data": {
      "text/html": [
       "<div>\n",
       "<style scoped>\n",
       "    .dataframe tbody tr th:only-of-type {\n",
       "        vertical-align: middle;\n",
       "    }\n",
       "\n",
       "    .dataframe tbody tr th {\n",
       "        vertical-align: top;\n",
       "    }\n",
       "\n",
       "    .dataframe thead th {\n",
       "        text-align: right;\n",
       "    }\n",
       "</style>\n",
       "<table border=\"1\" class=\"dataframe\">\n",
       "  <thead>\n",
       "    <tr style=\"text-align: right;\">\n",
       "      <th></th>\n",
       "      <th>CAR_DRIVER</th>\n",
       "      <th>CAR_PASSENGER</th>\n",
       "      <th>BIKE</th>\n",
       "      <th>BUS_TRAM</th>\n",
       "      <th>TRAIN</th>\n",
       "      <th>WALK</th>\n",
       "    </tr>\n",
       "  </thead>\n",
       "  <tbody>\n",
       "    <tr>\n",
       "      <th>0</th>\n",
       "      <td>0.027988</td>\n",
       "      <td>0.297281</td>\n",
       "      <td>0.286106</td>\n",
       "      <td>0.091091</td>\n",
       "      <td>0.008263</td>\n",
       "      <td>0.289272</td>\n",
       "    </tr>\n",
       "    <tr>\n",
       "      <th>1</th>\n",
       "      <td>0.063858</td>\n",
       "      <td>0.144649</td>\n",
       "      <td>0.368777</td>\n",
       "      <td>0.043071</td>\n",
       "      <td>0.021469</td>\n",
       "      <td>0.358175</td>\n",
       "    </tr>\n",
       "    <tr>\n",
       "      <th>2</th>\n",
       "      <td>0.008636</td>\n",
       "      <td>0.483806</td>\n",
       "      <td>0.180547</td>\n",
       "      <td>0.147030</td>\n",
       "      <td>0.002018</td>\n",
       "      <td>0.177964</td>\n",
       "    </tr>\n",
       "    <tr>\n",
       "      <th>3</th>\n",
       "      <td>0.024075</td>\n",
       "      <td>0.225548</td>\n",
       "      <td>0.354371</td>\n",
       "      <td>0.027010</td>\n",
       "      <td>0.015168</td>\n",
       "      <td>0.353828</td>\n",
       "    </tr>\n",
       "    <tr>\n",
       "      <th>4</th>\n",
       "      <td>0.047520</td>\n",
       "      <td>0.600563</td>\n",
       "      <td>0.139711</td>\n",
       "      <td>0.070953</td>\n",
       "      <td>0.001022</td>\n",
       "      <td>0.140230</td>\n",
       "    </tr>\n",
       "    <tr>\n",
       "      <th>...</th>\n",
       "      <td>...</td>\n",
       "      <td>...</td>\n",
       "      <td>...</td>\n",
       "      <td>...</td>\n",
       "      <td>...</td>\n",
       "      <td>...</td>\n",
       "    </tr>\n",
       "    <tr>\n",
       "      <th>215</th>\n",
       "      <td>0.008176</td>\n",
       "      <td>0.281746</td>\n",
       "      <td>0.312825</td>\n",
       "      <td>0.067135</td>\n",
       "      <td>0.021877</td>\n",
       "      <td>0.308241</td>\n",
       "    </tr>\n",
       "    <tr>\n",
       "      <th>216</th>\n",
       "      <td>0.016739</td>\n",
       "      <td>0.627563</td>\n",
       "      <td>0.105476</td>\n",
       "      <td>0.148440</td>\n",
       "      <td>0.001379</td>\n",
       "      <td>0.100402</td>\n",
       "    </tr>\n",
       "    <tr>\n",
       "      <th>217</th>\n",
       "      <td>0.075018</td>\n",
       "      <td>0.138637</td>\n",
       "      <td>0.380377</td>\n",
       "      <td>0.031570</td>\n",
       "      <td>0.003816</td>\n",
       "      <td>0.370581</td>\n",
       "    </tr>\n",
       "    <tr>\n",
       "      <th>218</th>\n",
       "      <td>0.011628</td>\n",
       "      <td>0.473696</td>\n",
       "      <td>0.199966</td>\n",
       "      <td>0.111944</td>\n",
       "      <td>0.007325</td>\n",
       "      <td>0.195441</td>\n",
       "    </tr>\n",
       "    <tr>\n",
       "      <th>219</th>\n",
       "      <td>0.032733</td>\n",
       "      <td>0.095073</td>\n",
       "      <td>0.405864</td>\n",
       "      <td>0.054757</td>\n",
       "      <td>0.012431</td>\n",
       "      <td>0.399142</td>\n",
       "    </tr>\n",
       "  </tbody>\n",
       "</table>\n",
       "<p>220 rows × 6 columns</p>\n",
       "</div>"
      ],
      "text/plain": [
       "     CAR_DRIVER  CAR_PASSENGER      BIKE  BUS_TRAM     TRAIN      WALK\n",
       "0      0.027988       0.297281  0.286106  0.091091  0.008263  0.289272\n",
       "1      0.063858       0.144649  0.368777  0.043071  0.021469  0.358175\n",
       "2      0.008636       0.483806  0.180547  0.147030  0.002018  0.177964\n",
       "3      0.024075       0.225548  0.354371  0.027010  0.015168  0.353828\n",
       "4      0.047520       0.600563  0.139711  0.070953  0.001022  0.140230\n",
       "..          ...            ...       ...       ...       ...       ...\n",
       "215    0.008176       0.281746  0.312825  0.067135  0.021877  0.308241\n",
       "216    0.016739       0.627563  0.105476  0.148440  0.001379  0.100402\n",
       "217    0.075018       0.138637  0.380377  0.031570  0.003816  0.370581\n",
       "218    0.011628       0.473696  0.199966  0.111944  0.007325  0.195441\n",
       "219    0.032733       0.095073  0.405864  0.054757  0.012431  0.399142\n",
       "\n",
       "[220 rows x 6 columns]"
      ]
     },
     "execution_count": 8,
     "metadata": {},
     "output_type": "execute_result"
    }
   ],
   "source": [
    "output = pd.read_csv(path+'output/output_proportions.csv')\n",
    "output"
   ]
  },
  {
   "cell_type": "code",
   "execution_count": 2,
   "id": "47b2ffe1",
   "metadata": {},
   "outputs": [
    {
     "data": {
      "text/html": [
       "<div>\n",
       "<style scoped>\n",
       "    .dataframe tbody tr th:only-of-type {\n",
       "        vertical-align: middle;\n",
       "    }\n",
       "\n",
       "    .dataframe tbody tr th {\n",
       "        vertical-align: top;\n",
       "    }\n",
       "\n",
       "    .dataframe thead th {\n",
       "        text-align: right;\n",
       "    }\n",
       "</style>\n",
       "<table border=\"1\" class=\"dataframe\">\n",
       "  <thead>\n",
       "    <tr style=\"text-align: right;\">\n",
       "      <th></th>\n",
       "      <th>CAR_DRIVER</th>\n",
       "      <th>CAR_PASSENGER</th>\n",
       "      <th>BIKE</th>\n",
       "      <th>BUS_TRAM</th>\n",
       "      <th>TRAIN</th>\n",
       "      <th>WALK</th>\n",
       "    </tr>\n",
       "  </thead>\n",
       "  <tbody>\n",
       "    <tr>\n",
       "      <th>0</th>\n",
       "      <td>0.29</td>\n",
       "      <td>0.12</td>\n",
       "      <td>0.16</td>\n",
       "      <td>0.15</td>\n",
       "      <td>0.03</td>\n",
       "      <td>0.25</td>\n",
       "    </tr>\n",
       "  </tbody>\n",
       "</table>\n",
       "</div>"
      ],
      "text/plain": [
       "   CAR_DRIVER  CAR_PASSENGER  BIKE  BUS_TRAM  TRAIN  WALK\n",
       "0        0.29           0.12  0.16      0.15   0.03  0.25"
      ]
     },
     "execution_count": 2,
     "metadata": {},
     "output_type": "execute_result"
    }
   ],
   "source": [
    "observed_values = pd.read_csv(path+'data/observed_mode_choice.csv')\n",
    "observed_values"
   ]
  },
  {
   "cell_type": "code",
   "execution_count": 10,
   "id": "39eaa9ad",
   "metadata": {},
   "outputs": [
    {
     "name": "stdout",
     "output_type": "stream",
     "text": [
      "     CAR_DRIVER  CAR_PASSENGER      BIKE  BUS_TRAM     TRAIN      WALK  \\\n",
      "0      7.598361       2.127370  2.017698  0.883639  0.065212  0.981807   \n",
      "1      6.558106       0.295793  3.340432  1.603938  0.025593  2.704387   \n",
      "2      8.159564       4.365671  0.328744  0.044555  0.083946  1.800891   \n",
      "3      7.711827       1.266571  3.109941  1.844849  0.044497  2.595710   \n",
      "4      7.031918       5.766758  0.324629  1.185701  0.086933  2.744242   \n",
      "..          ...            ...       ...       ...       ...       ...   \n",
      "215    8.172897       1.940952  2.445200  1.242970  0.024370  1.456024   \n",
      "216    7.924560       6.090754  0.872377  0.023398  0.085862  3.739953   \n",
      "217    6.234473       0.223649  3.526037  1.776449  0.078552  3.014521   \n",
      "218    8.072785       4.244351  0.639454  0.570840  0.068024  1.363976   \n",
      "219    7.460754       0.299121  3.933827  1.428644  0.052707  3.728550   \n",
      "\n",
      "       fitness  \n",
      "0    13.674088  \n",
      "1    14.528249  \n",
      "2    14.783372  \n",
      "3    16.573395  \n",
      "4    17.140181  \n",
      "..         ...  \n",
      "215  15.282413  \n",
      "216  18.736903  \n",
      "217  14.853681  \n",
      "218  14.959430  \n",
      "219  16.903604  \n",
      "\n",
      "[220 rows x 7 columns]\n"
     ]
    }
   ],
   "source": [
    "# for each mode choice, calculate the difference between observed and simulated data. weight by obrserved data\n",
    "df = observed_values.values[0] * abs(output - observed_values.values[0]) * 100\n",
    "\n",
    "# aggregate in one fitness score\n",
    "df['fitness'] = df.sum(axis=1)\n",
    "\n",
    "print(df)\n",
    "\n",
    "# leave only the fitness score\n",
    "df = df['fitness']"
   ]
  },
  {
   "cell_type": "code",
   "execution_count": null,
   "id": "99a73122",
   "metadata": {},
   "outputs": [],
   "source": []
  },
  {
   "cell_type": "markdown",
   "id": "62c801e1",
   "metadata": {},
   "source": [
    "## Organising the output"
   ]
  },
  {
   "cell_type": "code",
   "execution_count": 11,
   "id": "6c74a114",
   "metadata": {},
   "outputs": [],
   "source": [
    "y_train = df.head(X_train.shape[0])\n",
    "y_test = df.tail(X_test.shape[0])"
   ]
  },
  {
   "cell_type": "markdown",
   "id": "1afb85fc",
   "metadata": {},
   "source": [
    "## Surrogate model"
   ]
  },
  {
   "cell_type": "markdown",
   "id": "a9f8e4c7",
   "metadata": {},
   "source": [
    "### Compute the XGBoost Surrogate"
   ]
  },
  {
   "cell_type": "code",
   "execution_count": 12,
   "id": "1e27330f",
   "metadata": {},
   "outputs": [
    {
     "name": "stdout",
     "output_type": "stream",
     "text": [
      "Iteration No: 1 started. Evaluating function at random point.\n",
      "Iteration No: 1 ended. Evaluation done at random point.\n",
      "Time taken: 1.2041\n",
      "Function value obtained: 1.0031\n",
      "Current minimum: 1.0031\n",
      "Iteration No: 2 started. Evaluating function at random point.\n",
      "Iteration No: 2 ended. Evaluation done at random point.\n",
      "Time taken: 1.2785\n",
      "Function value obtained: 0.2207\n",
      "Current minimum: 0.2207\n",
      "Iteration No: 3 started. Evaluating function at random point.\n",
      "Iteration No: 3 ended. Evaluation done at random point.\n",
      "Time taken: 0.8828\n",
      "Function value obtained: 0.6870\n",
      "Current minimum: 0.2207\n",
      "Iteration No: 4 started. Evaluating function at random point.\n",
      "Iteration No: 4 ended. Evaluation done at random point.\n",
      "Time taken: 0.5590\n",
      "Function value obtained: 0.9207\n",
      "Current minimum: 0.2207\n",
      "Iteration No: 5 started. Evaluating function at random point.\n",
      "Iteration No: 5 ended. Evaluation done at random point.\n",
      "Time taken: 1.9092\n",
      "Function value obtained: 0.6581\n",
      "Current minimum: 0.2207\n",
      "Iteration No: 6 started. Evaluating function at random point.\n",
      "Iteration No: 6 ended. Evaluation done at random point.\n",
      "Time taken: 0.8133\n",
      "Function value obtained: 1.6463\n",
      "Current minimum: 0.2207\n",
      "Iteration No: 7 started. Evaluating function at random point.\n",
      "Iteration No: 7 ended. Evaluation done at random point.\n",
      "Time taken: 0.7894\n",
      "Function value obtained: 0.3995\n",
      "Current minimum: 0.2207\n",
      "Iteration No: 8 started. Evaluating function at random point.\n",
      "Iteration No: 8 ended. Evaluation done at random point.\n",
      "Time taken: 0.4891\n",
      "Function value obtained: 1.1674\n",
      "Current minimum: 0.2207\n",
      "Iteration No: 9 started. Evaluating function at random point.\n",
      "Iteration No: 9 ended. Evaluation done at random point.\n",
      "Time taken: 1.3834\n",
      "Function value obtained: 0.3261\n",
      "Current minimum: 0.2207\n",
      "Iteration No: 10 started. Evaluating function at random point.\n",
      "Iteration No: 10 ended. Evaluation done at random point.\n",
      "Time taken: 5.1773\n",
      "Function value obtained: 1.4215\n",
      "Current minimum: 0.2207\n"
     ]
    }
   ],
   "source": [
    "# This surrogate will not have multiple iterations. It will run on the entire budget of evaluations.\n",
    "surrogate_model_XGBoost = fit_surrogate_model(X_train, y_train)"
   ]
  },
  {
   "cell_type": "markdown",
   "id": "dbd60cef",
   "metadata": {},
   "source": [
    "### Predict test set surrogate model"
   ]
  },
  {
   "cell_type": "code",
   "execution_count": 13,
   "id": "ce03fd46",
   "metadata": {},
   "outputs": [],
   "source": [
    "y_hat_test = surrogate_model_XGBoost.predict(X_test)"
   ]
  },
  {
   "cell_type": "markdown",
   "id": "f00ba9f8",
   "metadata": {},
   "source": [
    "### Evaluate surrogate model on the test set"
   ]
  },
  {
   "cell_type": "code",
   "execution_count": 14,
   "id": "3cbdb170",
   "metadata": {},
   "outputs": [
    {
     "name": "stdout",
     "output_type": "stream",
     "text": [
      "10.612379884524035\n"
     ]
    }
   ],
   "source": [
    "model_fitness = mean_squared_error(y_test, y_hat_test)\n",
    "\n",
    "print(model_fitness)"
   ]
  },
  {
   "cell_type": "markdown",
   "id": "11fe8922",
   "metadata": {},
   "source": [
    "### Find optimal parameter set"
   ]
  },
  {
   "cell_type": "code",
   "execution_count": 15,
   "id": "49a323c2",
   "metadata": {},
   "outputs": [],
   "source": [
    "# Set the ABM parameters and support\n",
    "parameters_range = np.array([\n",
    "    (-2.0, 2.0),\n",
    "    (-2.0, 2.0),\n",
    "    (-2.0, 2.0),\n",
    "    (-2.0, 2.0)])\n",
    "\n",
    "pool_size = 1000000\n",
    "pool = get_sobol_samples(parameters_range.shape[0], pool_size, parameters_range) # generate (with the Sobol sampling) a large set of parameters combinations. Quantity based on the budget"
   ]
  },
  {
   "cell_type": "code",
   "execution_count": 16,
   "id": "dd7be900",
   "metadata": {},
   "outputs": [],
   "source": [
    "Y_hat = surrogate_model_XGBoost.predict(pool)"
   ]
  },
  {
   "cell_type": "code",
   "execution_count": 22,
   "id": "95b83a95",
   "metadata": {},
   "outputs": [
    {
     "name": "stdout",
     "output_type": "stream",
     "text": [
      "Mean: 15.231584\n",
      "SD 2.4568853\n"
     ]
    }
   ],
   "source": [
    "print('Mean: ' + str(np.mean(Y_hat)))\n",
    "print('SD ' + str(np.std(Y_hat)))"
   ]
  },
  {
   "cell_type": "code",
   "execution_count": 29,
   "id": "f144f814",
   "metadata": {},
   "outputs": [
    {
     "name": "stdout",
     "output_type": "stream",
     "text": [
      "[1.85026932 0.06657028 0.05263901 0.99746323 9.73578644]\n"
     ]
    }
   ],
   "source": [
    "best_parameter_set = pool[np.argmin(Y_hat)]\n",
    "best_parameter_set_with_fitness = np.append(best_parameter_set, min(Y_hat))\n",
    "print(best_parameter_set_with_fitness)"
   ]
  },
  {
   "cell_type": "code",
   "execution_count": 24,
   "id": "f94d2552",
   "metadata": {},
   "outputs": [
    {
     "name": "stdout",
     "output_type": "stream",
     "text": [
      "   alphaLeisureCarDriver  alphaLeisureCarPassenger  alphaLeisureTrain  \\\n",
      "0               1.850269                   0.06657           0.052639   \n",
      "\n",
      "   alphaLeisureTram  \n",
      "0          0.997463  \n"
     ]
    }
   ],
   "source": [
    "best_parameter_set = pd.DataFrame([best_parameter_set], columns=['alphaLeisureCarPassenger',\n",
    "                                           'alphaLeisureTram',\n",
    "                                           'alphaSchoolBus',\n",
    "                                           'alphaWorkBus',\n",
    "                                           'alphaWorkTrain',\n",
    "                                           'betaChangesTransportLeisure',\n",
    "                                           'betaChangesTransportSchool',\n",
    "                                           'betaChangesTransportWork'])\n",
    "\n",
    "best_parameter_set.to_csv(path+\"optimal_parameterset/best_parameterset.csv\", header=True, index=None)"
   ]
  },
  {
   "cell_type": "markdown",
   "id": "fbbc3601",
   "metadata": {},
   "source": [
    "### Test optimal parameter set with Sim2APL"
   ]
  },
  {
   "cell_type": "code",
   "execution_count": 25,
   "id": "e8e8a405",
   "metadata": {},
   "outputs": [],
   "source": [
    "with open(path+'data/parameter_labels.csv', newline='') as csvfile:\n",
    "    reader = csv.DictReader(csvfile)\n",
    "    params = [row['parameter'] for row in reader]\n",
    "\n",
    "best_parameterset_full = pd.DataFrame()\n",
    "for label in params:\n",
    "    best_parameterset_full[label] = [1.0]\n",
    "best_parameterset_full.update(best_parameter_set)\n",
    "best_parameterset_full.to_csv(path + \"optimal_parameterset/parameterset.csv\", index=False)"
   ]
  },
  {
   "cell_type": "code",
   "execution_count": 26,
   "id": "c69763d8",
   "metadata": {},
   "outputs": [],
   "source": [
    "config = \"--config src/main/resources/config_DHZW_full.toml\"\n",
    "modeliberal = \"--mode-liberal 0.5\"\n",
    "modeconservative = \"--mode-conservative 0.5\"\n",
    "output = \"-o output/deskrun\"\n",
    "outputPath = \" --output_file src/main/resources/calibration/optimal_parameterset/output_proportions.csv\"\n",
    "parametersPath = \"--parameter_file src/main/resources/calibration/optimal_parameterset/parameterset.csv\"\n",
    "\n",
    "cmd = \"java -cp target/sim2apl-dhzw-simulation-1.0-SNAPSHOT-jar-with-dependencies.jar main.java.nl.uu.iss.ga.Simulation\" + \" \" + config + \" \" + modeliberal + \" \" + modeconservative + \" \" + output + \" \" + outputPath + \" \" + parametersPath\n",
    "arg = f'--parameterset_index={1}'\n",
    "full_command = f'{cmd} {arg}'\n",
    "\n",
    "os.chdir('C:/Users/6997619/Documents/GitHub projects/DHZW-simulation_Sim-2APL')"
   ]
  },
  {
   "cell_type": "code",
   "execution_count": 27,
   "id": "bdbec685",
   "metadata": {},
   "outputs": [],
   "source": [
    "df = pd.DataFrame(columns=[\"CAR_DRIVER\", \"CAR_PASSENGER\", \"BIKE\", \"BUS_TRAM\", \"TRAIN\", \"WALK\"])\n",
    "df.to_csv(path + \"optimal_parameterset/output_proportions.csv\", index=False)"
   ]
  },
  {
   "cell_type": "code",
   "execution_count": 28,
   "id": "6d81318a",
   "metadata": {
    "scrolled": true
   },
   "outputs": [
    {
     "name": "stdout",
     "output_type": "stream",
     "text": [
      "java -cp target/sim2apl-dhzw-simulation-1.0-SNAPSHOT-jar-with-dependencies.jar main.java.nl.uu.iss.ga.Simulation --config src/main/resources/config_DHZW_full.toml --mode-liberal 0.5 --mode-conservative 0.5 -o output/deskrun  --output_file src/main/resources/calibration/optimal_parameterset/output_proportions.csv --parameter_file src/main/resources/calibration/optimal_parameterset/parameterset.csv\n"
     ]
    }
   ],
   "source": [
    "print(cmd)\n",
    "               \n",
    "# Capture the output of the Java program\n",
    "try:\n",
    "    output = subprocess.check_output(full_command, stderr=subprocess.STDOUT, universal_newlines=True)\n",
    "except subprocess.CalledProcessError as e:\n",
    "    print(f\"Java program exited with non-zero return code: {e.returncode}\")\n",
    "    print(f\"Error message: {e.output}\")\n",
    "    exit(1)"
   ]
  },
  {
   "cell_type": "code",
   "execution_count": 30,
   "id": "a02ed89d",
   "metadata": {},
   "outputs": [
    {
     "data": {
      "text/html": [
       "<div>\n",
       "<style scoped>\n",
       "    .dataframe tbody tr th:only-of-type {\n",
       "        vertical-align: middle;\n",
       "    }\n",
       "\n",
       "    .dataframe tbody tr th {\n",
       "        vertical-align: top;\n",
       "    }\n",
       "\n",
       "    .dataframe thead th {\n",
       "        text-align: right;\n",
       "    }\n",
       "</style>\n",
       "<table border=\"1\" class=\"dataframe\">\n",
       "  <thead>\n",
       "    <tr style=\"text-align: right;\">\n",
       "      <th></th>\n",
       "      <th>CAR_DRIVER</th>\n",
       "      <th>CAR_PASSENGER</th>\n",
       "      <th>BIKE</th>\n",
       "      <th>BUS_TRAM</th>\n",
       "      <th>TRAIN</th>\n",
       "      <th>WALK</th>\n",
       "    </tr>\n",
       "  </thead>\n",
       "  <tbody>\n",
       "    <tr>\n",
       "      <th>0</th>\n",
       "      <td>0.072121</td>\n",
       "      <td>0.262045</td>\n",
       "      <td>0.240751</td>\n",
       "      <td>0.182512</td>\n",
       "      <td>0.007131</td>\n",
       "      <td>0.23544</td>\n",
       "    </tr>\n",
       "  </tbody>\n",
       "</table>\n",
       "</div>"
      ],
      "text/plain": [
       "   CAR_DRIVER  CAR_PASSENGER      BIKE  BUS_TRAM     TRAIN     WALK\n",
       "0    0.072121       0.262045  0.240751  0.182512  0.007131  0.23544"
      ]
     },
     "execution_count": 30,
     "metadata": {},
     "output_type": "execute_result"
    }
   ],
   "source": [
    "optimal_parameterset_simulation = pd.read_csv(path+'optimal_parameterset/output_proportions.csv')\n",
    "optimal_parameterset_simulation"
   ]
  },
  {
   "cell_type": "code",
   "execution_count": 32,
   "id": "ca7aff9c",
   "metadata": {},
   "outputs": [
    {
     "name": "stdout",
     "output_type": "stream",
     "text": [
      "   CAR_DRIVER  CAR_PASSENGER      BIKE  BUS_TRAM     TRAIN      WALK  \\\n",
      "0    6.318488        1.70454  1.292019  0.487674  0.068607  0.363997   \n",
      "\n",
      "     fitness  \n",
      "0  10.235324  \n"
     ]
    }
   ],
   "source": [
    "df_sim = observed_values.values[0] * abs(optimal_parameterset_simulation - observed_values.values[0]) * 100\n",
    "\n",
    "# aggregate in one fitness score\n",
    "df_sim['fitness'] = df_sim.sum(axis=1)\n",
    "\n",
    "print(df_sim)"
   ]
  },
  {
   "cell_type": "markdown",
   "id": "6968962d",
   "metadata": {},
   "source": [
    "### Baseline"
   ]
  },
  {
   "cell_type": "code",
   "execution_count": 97,
   "id": "272ef60a",
   "metadata": {},
   "outputs": [],
   "source": [
    "with open(path+'data/parameter_labels.csv', newline='') as csvfile:\n",
    "    reader = csv.DictReader(csvfile)\n",
    "    params = [row['parameter'] for row in reader]\n",
    "\n",
    "baseline_parameterset = pd.DataFrame()\n",
    "for label in params:\n",
    "    baseline_parameterset[label] = [1.0]\n",
    "baseline_parameterset.to_csv(path + \"uncalibrated_parameterset/parameterset.csv\", index=False)\n",
    "df = pd.DataFrame(columns=[\"CAR_DRIVER\", \"CAR_PASSENGER\", \"BIKE\", \"BUS_TRAM\", \"TRAIN\", \"WALK\"])\n",
    "df.to_csv(path + \"uncalibrated_parameterset/output_proportions.csv\", index=False)"
   ]
  },
  {
   "cell_type": "code",
   "execution_count": 98,
   "id": "c9a76af9",
   "metadata": {},
   "outputs": [],
   "source": [
    "config = \"--config src/main/resources/config_DHZW_full.toml\"\n",
    "modeliberal = \"--mode-liberal 0.5\"\n",
    "modeconservative = \"--mode-conservative 0.5\"\n",
    "output = \"-o output/deskrun\"\n",
    "outputPath = \" --output_file src/main/resources/calibration/uncalibrated_parameterset/output_proportions.csv\"\n",
    "parametersPath = \"--parameter_file src/main/resources/calibration/uncalibrated_parameterset/parameterset.csv\"\n",
    "\n",
    "cmd = \"java -cp target/sim2apl-dhzw-simulation-1.0-SNAPSHOT-jar-with-dependencies.jar main.java.nl.uu.iss.ga.Simulation\" + \" \" + config + \" \" + modeliberal + \" \" + modeconservative + \" \" + output + \" \" + outputPath + \" \" + parametersPath\n",
    "arg = f'--parameterset_index={1}'\n",
    "full_command = f'{cmd} {arg}'\n",
    "\n",
    "os.chdir('C:/Users/6997619/Documents/GitHub projects/DHZW-simulation_Sim-2APL')"
   ]
  },
  {
   "cell_type": "code",
   "execution_count": 99,
   "id": "ff19ddc1",
   "metadata": {},
   "outputs": [
    {
     "name": "stdout",
     "output_type": "stream",
     "text": [
      "java -cp target/sim2apl-dhzw-simulation-1.0-SNAPSHOT-jar-with-dependencies.jar main.java.nl.uu.iss.ga.Simulation --config src/main/resources/config_DHZW_full.toml --mode-liberal 0.5 --mode-conservative 0.5 -o output/deskrun  --output_file src/main/resources/calibration/uncalibrated_parameterset/output_proportions.csv --parameter_file src/main/resources/calibration/uncalibrated_parameterset/parameterset.csv\n"
     ]
    }
   ],
   "source": [
    "print(cmd)\n",
    "               \n",
    "# Capture the output of the Java program\n",
    "try:\n",
    "    output = subprocess.check_output(full_command, stderr=subprocess.STDOUT, universal_newlines=True)\n",
    "except subprocess.CalledProcessError as e:\n",
    "    print(f\"Java program exited with non-zero return code: {e.returncode}\")\n",
    "    print(f\"Error message: {e.output}\")\n",
    "    exit(1)"
   ]
  },
  {
   "cell_type": "code",
   "execution_count": 100,
   "id": "4e17d917",
   "metadata": {},
   "outputs": [
    {
     "name": "stdout",
     "output_type": "stream",
     "text": [
      "   CAR_DRIVER  CAR_PASSENGER      BIKE  BUS_TRAM    TRAIN      WALK    fitness\n",
      "0    6.840374       1.380687  9.433965  1.552252  0.10505  4.255599  23.567927\n",
      "   CAR_DRIVER  CAR_PASSENGER      BIKE  BUS_TRAM     TRAIN      WALK\n",
      "0    0.054125       0.004943  0.749623  0.046517  0.065017  0.079776\n",
      "   CAR_DRIVER  CAR_PASSENGER  BIKE  BUS_TRAM  TRAIN  WALK\n",
      "0        0.29           0.12  0.16      0.15   0.03  0.25\n"
     ]
    }
   ],
   "source": [
    "uncalibrated_result = pd.read_csv(path+'uncalibrated_parameterset/output_proportions.csv')\n",
    "df_uncalibrated = observed_values.values[0] * abs(uncalibrated_result - observed_values.values[0]) * 100\n",
    "\n",
    "# aggregate in one fitness score\n",
    "df_uncalibrated['fitness'] = df_uncalibrated.sum(axis=1)\n",
    "\n",
    "print(df_uncalibrated)\n",
    "print(uncalibrated_result)\n",
    "print(observed_values)"
   ]
  },
  {
   "cell_type": "markdown",
   "id": "93f313d2",
   "metadata": {},
   "source": [
    "### Plot"
   ]
  },
  {
   "cell_type": "code",
   "execution_count": 4,
   "id": "5d9cd194",
   "metadata": {},
   "outputs": [
    {
     "data": {
      "image/png": "[encoded data removed]",
      "text/plain": [
       "<Figure size 640x480 with 1 Axes>"
      ]
     },
     "metadata": {},
     "output_type": "display_data"
    }
   ],
   "source": [
    "#entry1 = optimal_parameterset_simulation.values.flatten().tolist()\n",
    "entry2 = observed_values.values.flatten().tolist()\n",
    "#entry3 = uncalibrated_result.values.flatten().tolist()\n",
    "\n",
    "columns = observed_values.columns.tolist()\n",
    "\n",
    "# Create a list of indices for the x-axis\n",
    "x = np.arange(len(columns))\n",
    "\n",
    "# Plot the grouped bar chart using matplotlib\n",
    "#plt.bar(x - 0.2, entry1, width=0.2, label='Optimal parameter set')\n",
    "plt.bar(x, entry2, width=0.2, label='ODiN')\n",
    "#plt.bar(x + 0.2, entry3, width=0.2, label='Uncalibrated')\n",
    "\n",
    "plt.xlabel('Mode choice')\n",
    "plt.ylabel('Mode choice proportion')\n",
    "#plt.title('Evaluation of optimal parameter set')\n",
    "plt.xticks(x, columns, rotation=45)\n",
    "plt.ylim(0.0, 1.0)\n",
    "plt.legend()\n",
    "plt.tight_layout()\n",
    "plt.show()"
   ]
  },
  {
   "cell_type": "code",
   "execution_count": 45,
   "id": "36abfce5",
   "metadata": {},
   "outputs": [
    {
     "data": {
      "text/plain": [
       "array([1.85026932, 0.06657028, 0.05263901, 0.99746323, 9.73578644])"
      ]
     },
     "execution_count": 45,
     "metadata": {},
     "output_type": "execute_result"
    }
   ],
   "source": [
    "best_parameter_set_with_fitness"
   ]
  },
  {
   "cell_type": "code",
   "execution_count": null,
   "id": "50a15680",
   "metadata": {},
   "outputs": [],
   "source": []
  }
 ],
 "metadata": {
  "kernelspec": {
   "display_name": "dhzw_env",
   "language": "python",
   "name": "dhzw_env"
  },
  "language_info": {
   "codemirror_mode": {
    "name": "ipython",
    "version": 3
   },
   "file_extension": ".py",
   "mimetype": "text/x-python",
   "name": "python",
   "nbconvert_exporter": "python",
   "pygments_lexer": "ipython3",
   "version": "3.9.13"
  }
 },
 "nbformat": 4,
 "nbformat_minor": 5
}
