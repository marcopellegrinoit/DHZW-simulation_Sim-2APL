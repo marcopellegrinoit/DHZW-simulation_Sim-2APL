{
 "cells": [
  {
   "cell_type": "code",
   "execution_count": 116,
   "id": "969bc208",
   "metadata": {},
   "outputs": [],
   "source": [
    "import csv\n",
    "import subprocess\n",
    "from tqdm import tqdm\n",
    "import os"
   ]
  },
  {
   "cell_type": "code",
   "execution_count": 125,
   "id": "a46654c9",
   "metadata": {},
   "outputs": [
    {
     "data": {
      "text/plain": [
       "['parameterset01', 'parameterset02', 'parameterset03']"
      ]
     },
     "execution_count": 125,
     "metadata": {},
     "output_type": "execute_result"
    }
   ],
   "source": [
    "# Get the directory of the current script\n",
    "os.chdir('C:/Users/6997619/Documents/GitHub projects/DHZW-simulation_Sim-2APL/src/main/resources')\n",
    "\n",
    "# Open the CSV file and read it as a list of dictionaries\n",
    "with open('list_parametersets.csv', newline='') as csvfile:\n",
    "    reader = csv.DictReader(csvfile)\n",
    "    parameterset_list = [row['parameterset'] for row in reader]\n",
    "\n",
    "config = \"--config src/main/resources/config_DHZW_sample_1.toml\"\n",
    "modeliberal = \"--mode-liberal 0.5\"\n",
    "modeconservative = \"--mode-conservative 0.5\"\n",
    "output = \"-o output/deskrun\"\n",
    "\n",
    "print(parameterset_list)"
   ]
  },
  {
   "cell_type": "code",
   "execution_count": 126,
   "id": "5c70f0c4",
   "metadata": {},
   "outputs": [],
   "source": [
    "# set the working directory to then launch the simulation\n",
    "os.chdir('C:/Users/6997619/Documents/GitHub projects/DHZW-simulation_Sim-2APL')\n",
    "\n",
    "# baseline of the command\n",
    "cmd = \"java -cp target/sim2apl-dhzw-simulation-1.0-SNAPSHOT-jar-with-dependencies.jar main.java.nl.uu.iss.ga.Simulation\" + \" \" + config + \" \" + modeliberal + \" \" + modeconservative + \" \" + output"
   ]
  },
  {
   "cell_type": "code",
   "execution_count": 129,
   "id": "e8464253",
   "metadata": {
    "scrolled": false
   },
   "outputs": [
    {
     "name": "stderr",
     "output_type": "stream",
     "text": [
      "100%|████████████████████████████████████████████████████████████████████████████████████| 3/3 [00:04<00:00,  1.54s/it]\n"
     ]
    }
   ],
   "source": [
    "# Loop through the argument list and call the Java program\n",
    "for parameterset in tqdm(parameterset_list):\n",
    "    # Construct the command to run the Java program\n",
    "    \n",
    "    cmd_run = cmd + \" --parameterset_id \" + parameterset  \n",
    "            \n",
    "    # Capture the output of the Java program\n",
    "    try:\n",
    "        output = subprocess.check_output(cmd_run, stderr=subprocess.STDOUT, universal_newlines=True)\n",
    "    except subprocess.CalledProcessError as e:\n",
    "        print(f\"Java program exited with non-zero return code: {e.returncode}\")\n",
    "        print(f\"Error message: {e.output}\")\n",
    "        exit(1)"
   ]
  },
  {
   "cell_type": "code",
   "execution_count": null,
   "id": "4dc7189b",
   "metadata": {},
   "outputs": [],
   "source": []
  }
 ],
 "metadata": {
  "kernelspec": {
   "display_name": "Python 3 (ipykernel)",
   "language": "python",
   "name": "python3"
  },
  "language_info": {
   "codemirror_mode": {
    "name": "ipython",
    "version": 3
   },
   "file_extension": ".py",
   "mimetype": "text/x-python",
   "name": "python",
   "nbconvert_exporter": "python",
   "pygments_lexer": "ipython3",
   "version": "3.9.12"
  }
 },
 "nbformat": 4,
 "nbformat_minor": 5
}
